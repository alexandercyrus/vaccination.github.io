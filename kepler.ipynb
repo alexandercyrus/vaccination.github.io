{
 "cells": [
  {
   "cell_type": "markdown",
   "source": [
    "https://docs.kepler.gl/docs/keplergl-jupyter#2-add-data"
   ],
   "metadata": {}
  },
  {
   "cell_type": "code",
   "execution_count": 1,
   "source": [
    "import pandas as pd"
   ],
   "outputs": [],
   "metadata": {}
  },
  {
   "cell_type": "code",
   "execution_count": 2,
   "source": [
    "import requests"
   ],
   "outputs": [],
   "metadata": {}
  },
  {
   "cell_type": "code",
   "execution_count": 3,
   "source": [
    "response = requests.get('https://nswdac-covid-19-postcode-heatmap.azurewebsites.net/datafiles/vaccination_metrics-v3.json')"
   ],
   "outputs": [],
   "metadata": {}
  },
  {
   "cell_type": "code",
   "execution_count": 4,
   "source": [
    "df = response.json()"
   ],
   "outputs": [],
   "metadata": {}
  },
  {
   "cell_type": "code",
   "execution_count": 5,
   "source": [
    "data_dict = []\r\n",
    "for postcode in df.keys():\r\n",
    "    for date in df[postcode].keys():\r\n",
    "        data_dict.append([postcode,date]+[value  for stat_name,value in df[postcode][date].items()]) "
   ],
   "outputs": [],
   "metadata": {}
  },
  {
   "cell_type": "code",
   "execution_count": 6,
   "source": [
    "df_f = pd.DataFrame(data_dict, columns=['postcode','date','totalVaccinations','firstDoses','fullyVaccinated',\"ageUnder50Years\",\"age50YearsAndOver\",\"eligiblePopulation\",\"percPopFullyVaccinatedRange\",\r\n",
    "\"percPopFullyVaccinated10WidthRange\",\"percPopAtLeastFirstDoseRange\",\"percPopAtLeastFirstDose10WidthRange\"])"
   ],
   "outputs": [],
   "metadata": {}
  },
  {
   "cell_type": "code",
   "execution_count": 7,
   "source": [
    "response = requests.get('https://nswdac-covid-19-postcode-heatmap.azurewebsites.net/geojson/postcode_2016_nsw_simplified.json')"
   ],
   "outputs": [],
   "metadata": {}
  },
  {
   "cell_type": "code",
   "execution_count": 8,
   "source": [
    "geojson = response.json()"
   ],
   "outputs": [],
   "metadata": {}
  },
  {
   "cell_type": "code",
   "execution_count": 9,
   "source": [
    "import geopandas\r\n",
    "url = \"https://nswdac-covid-19-postcode-heatmap.azurewebsites.net/geojson/postcode_2016_nsw_simplified.json\"\r\n",
    "postcode_geo = geopandas.read_file(url)\r\n",
    "#display(postcode_geo.head(5))"
   ],
   "outputs": [],
   "metadata": {}
  },
  {
   "cell_type": "code",
   "execution_count": 10,
   "source": [
    "#display(postcode_geo.head(5))"
   ],
   "outputs": [],
   "metadata": {}
  },
  {
   "cell_type": "code",
   "execution_count": 11,
   "source": [
    "postcode_geo.columns = ['POA_CODE16', 'POA_NAME16', 'AREASQKM16', 'geometry']"
   ],
   "outputs": [],
   "metadata": {}
  },
  {
   "cell_type": "code",
   "execution_count": 12,
   "source": [
    "postcode_geo.dropna(inplace=True)"
   ],
   "outputs": [],
   "metadata": {}
  },
  {
   "cell_type": "code",
   "execution_count": 13,
   "source": [
    "df_f=df_f[df_f['date'] == df_f['date'].max()]"
   ],
   "outputs": [],
   "metadata": {}
  },
  {
   "cell_type": "code",
   "execution_count": 14,
   "source": [
    "df_merged = pd.merge(postcode_geo,df_f,how='left',left_on='POA_CODE16',right_on='postcode');"
   ],
   "outputs": [],
   "metadata": {}
  },
  {
   "cell_type": "code",
   "execution_count": 15,
   "source": [
    "df_merged.shape"
   ],
   "outputs": [
    {
     "output_type": "execute_result",
     "data": {
      "text/plain": [
       "(622, 16)"
      ]
     },
     "metadata": {},
     "execution_count": 15
    }
   ],
   "metadata": {}
  },
  {
   "cell_type": "code",
   "execution_count": 16,
   "source": [
    "df_merged = df_merged[df_merged['geometry']!=None]"
   ],
   "outputs": [],
   "metadata": {}
  },
  {
   "cell_type": "code",
   "execution_count": 17,
   "source": [
    "url = \"https://nswdac-covid-19-postcode-heatmap.azurewebsites.net/datafiles/population.json\""
   ],
   "outputs": [],
   "metadata": {}
  },
  {
   "cell_type": "code",
   "execution_count": 18,
   "source": [
    "suburbs = pd.read_json(url)"
   ],
   "outputs": [],
   "metadata": {}
  },
  {
   "cell_type": "code",
   "execution_count": 19,
   "source": [
    "suburbs['POA_NAME16'] = suburbs['POA_NAME16'].astype('str')"
   ],
   "outputs": [],
   "metadata": {}
  },
  {
   "cell_type": "code",
   "execution_count": 20,
   "source": [
    "df_merged = pd.merge(df_merged,suburbs,how='left',left_on='postcode',right_on='POA_NAME16') "
   ],
   "outputs": [],
   "metadata": {}
  },
  {
   "cell_type": "code",
   "execution_count": 21,
   "source": [
    "df_merged['Suburbs'] = df_merged['Combined']"
   ],
   "outputs": [],
   "metadata": {}
  },
  {
   "cell_type": "code",
   "execution_count": 22,
   "source": [
    "#df_merged.shape"
   ],
   "outputs": [],
   "metadata": {}
  },
  {
   "cell_type": "code",
   "execution_count": 23,
   "source": [
    "df_merged.dropna(subset=['percPopFullyVaccinatedRange'],inplace=True)"
   ],
   "outputs": [],
   "metadata": {}
  },
  {
   "cell_type": "code",
   "execution_count": 24,
   "source": [
    "import keplergl;"
   ],
   "outputs": [],
   "metadata": {}
  },
  {
   "cell_type": "code",
   "execution_count": 25,
   "source": [
    "# note that to manually change config, need to remove read_only\r\n",
    "w1 = keplergl.KeplerGl(height=500);"
   ],
   "outputs": [
    {
     "output_type": "stream",
     "name": "stdout",
     "text": [
      "User Guide: https://docs.kepler.gl/docs/keplergl-jupyter\n"
     ]
    }
   ],
   "metadata": {}
  },
  {
   "cell_type": "code",
   "execution_count": 26,
   "source": [
    "w1.add_data(data=df_merged, name='Vaccination Rates')"
   ],
   "outputs": [],
   "metadata": {}
  },
  {
   "cell_type": "code",
   "execution_count": 27,
   "source": [
    "config = {'version': 'v1',\r\n",
    " 'config': {'visState': {'filters': [],\r\n",
    "   'layers': [{'id': 'h7zmhd',\r\n",
    "     'type': 'geojson',\r\n",
    "     'config': {'dataId': 'Vaccination Rates',\r\n",
    "      'label': 'Vaccination Rates',\r\n",
    "      'color': [179, 173, 158],\r\n",
    "      'columns': {'geojson': 'geometry'},\r\n",
    "      'isVisible': True,\r\n",
    "      'visConfig': {'opacity': 0.8,\r\n",
    "       'strokeOpacity': 0.8,\r\n",
    "       'thickness': 0.5,\r\n",
    "       'strokeColor': [106, 187, 107],\r\n",
    "       'colorRange': {'name': 'ColorBrewer YlGn-6',\r\n",
    "        'type': 'sequential',\r\n",
    "        'category': 'ColorBrewer',\r\n",
    "        'colors': ['#ffffcc',\r\n",
    "         '#d9f0a3',\r\n",
    "         '#addd8e',\r\n",
    "         '#78c679',\r\n",
    "         '#31a354',\r\n",
    "         '#006837']},\r\n",
    "       'strokeColorRange': {'name': 'Global Warming',\r\n",
    "        'type': 'sequential',\r\n",
    "        'category': 'Uber',\r\n",
    "        'colors': ['#5A1846',\r\n",
    "         '#900C3F',\r\n",
    "         '#C70039',\r\n",
    "         '#E3611C',\r\n",
    "         '#F1920E',\r\n",
    "         '#FFC300']},\r\n",
    "       'radius': 10,\r\n",
    "       'sizeRange': [0, 10],\r\n",
    "       'radiusRange': [0, 50],\r\n",
    "       'heightRange': [0, 500],\r\n",
    "       'elevationScale': 5,\r\n",
    "       'enableElevationZoomFactor': True,\r\n",
    "       'stroked': True,\r\n",
    "       'filled': True,\r\n",
    "       'enable3d': False,\r\n",
    "       'wireframe': False},\r\n",
    "      'hidden': False,\r\n",
    "      'textLabel': [{'field': None,\r\n",
    "        'color': [255, 255, 255],\r\n",
    "        'size': 18,\r\n",
    "        'offset': [0, 0],\r\n",
    "        'anchor': 'start',\r\n",
    "        'alignment': 'center'}]},\r\n",
    "     'visualChannels': {'colorField': {'name': 'percPopFullyVaccinatedRange',\r\n",
    "       'type': 'string'},\r\n",
    "      'colorScale': 'ordinal',\r\n",
    "      'strokeColorField': None,\r\n",
    "      'strokeColorScale': 'quantile',\r\n",
    "      'sizeField': None,\r\n",
    "      'sizeScale': 'linear',\r\n",
    "      'heightField': None,\r\n",
    "      'heightScale': 'linear',\r\n",
    "      'radiusField': None,\r\n",
    "      'radiusScale': 'linear'}}],\r\n",
    "   'interactionConfig': {'tooltip': {'fieldsToShow': {'Vaccination Rates': [{'name': 'postcode',\r\n",
    "        'format': None},\r\n",
    "       {'name': 'date', 'format': None},\r\n",
    "       {'name': 'percPopFullyVaccinatedRange', 'format': None},\r\n",
    "       {'name': 'Suburbs', 'format': None}]},\r\n",
    "     'compareMode': False,\r\n",
    "     'compareType': 'absolute',\r\n",
    "     'enabled': True},\r\n",
    "    'brush': {'size': 0.5, 'enabled': False},\r\n",
    "    'geocoder': {'enabled': True},\r\n",
    "    'coordinate': {'enabled': False}},\r\n",
    "   'layerBlending': 'normal',\r\n",
    "   'splitMaps': [],\r\n",
    "   'animationConfig': {'currentTime': None, 'speed': 1}},\r\n",
    "  'mapState': {'bearing': 0,\r\n",
    "   'dragRotate': False,\r\n",
    "   'latitude': -33.84416836886649,\r\n",
    "   'longitude': 151.0122575699062,\r\n",
    "   'pitch': 0,\r\n",
    "   'zoom': 8.38911043038418,\r\n",
    "   'isSplit': False},\r\n",
    "  'mapStyle': {'styleType': 'dark',\r\n",
    "   'topLayerGroups': {},\r\n",
    "   'visibleLayerGroups': {'label': True,\r\n",
    "    'road': False,\r\n",
    "    'border': False,\r\n",
    "    'building': True,\r\n",
    "    'water': True,\r\n",
    "    'land': True,\r\n",
    "    '3d building': False},\r\n",
    "   'threeDBuildingColor': [9.665468314072013,\r\n",
    "    17.18305478057247,\r\n",
    "    31.1442867897876],\r\n",
    "   'mapStyles': {}}}}"
   ],
   "outputs": [],
   "metadata": {}
  },
  {
   "cell_type": "code",
   "execution_count": 28,
   "source": [
    "w1.config = config"
   ],
   "outputs": [],
   "metadata": {}
  },
  {
   "cell_type": "code",
   "execution_count": 29,
   "source": [
    "# to display the map in the notebook run the name of the map\r\n",
    "#w1"
   ],
   "outputs": [],
   "metadata": {
    "scrolled": false
   }
  },
  {
   "cell_type": "markdown",
   "source": [
    "To get the config of the map w1.config"
   ],
   "metadata": {}
  },
  {
   "cell_type": "code",
   "execution_count": 30,
   "source": [
    "w1.save_to_html(file_name='C:/Users/sesk2281/DataWarehouse/Personal Web Projects/vaccination.github.io/docs/index.html',read_only = True)"
   ],
   "outputs": [
    {
     "output_type": "stream",
     "name": "stdout",
     "text": [
      "Map saved to C:/Users/sesk2281/DataWarehouse/Personal Web Projects/vaccination.github.io/docs/index.html!\n"
     ]
    }
   ],
   "metadata": {}
  }
 ],
 "metadata": {
  "interpreter": {
   "hash": "999bf340ba54684e1817ccd85ecd1f61389985361d1ea8e90c1102262142a5f6"
  },
  "kernelspec": {
   "name": "python3",
   "display_name": "Python 3.7.9 64-bit ('diamonds': conda)"
  },
  "language_info": {
   "codemirror_mode": {
    "name": "ipython",
    "version": 3
   },
   "file_extension": ".py",
   "mimetype": "text/x-python",
   "name": "python",
   "nbconvert_exporter": "python",
   "pygments_lexer": "ipython3",
   "version": "3.7.9"
  }
 },
 "nbformat": 4,
 "nbformat_minor": 4
}